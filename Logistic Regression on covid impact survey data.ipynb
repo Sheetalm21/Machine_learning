{
 "cells": [
  {
   "cell_type": "markdown",
   "metadata": {},
   "source": [
    "## Sheetal Mahajan_20MAI0066"
   ]
  },
  {
   "cell_type": "markdown",
   "metadata": {},
   "source": [
    "## Title : Impact of covid-19 on students and working professionals"
   ]
  },
  {
   "cell_type": "markdown",
   "metadata": {},
   "source": [
    "The \"survey_dataset\" is the dataset that I collected by conducting a survey through google forms from a variety of people i.e. people of different area, age groups and gender. It has a responses of 65 individual candidates. This experiment is to check if covid-19 has impact on them or not. The features of dataset is mentioned in the further code itself. This data can be useful for medical practitioner in order to check the state of people during the lockdown and the work from home environment."
   ]
  },
  {
   "cell_type": "code",
   "execution_count": 1,
   "metadata": {},
   "outputs": [],
   "source": [
    "#1 import the libraries\n",
    "import numpy as np\n",
    "import pandas as pd\n",
    "import matplotlib.pyplot as plt"
   ]
  },
  {
   "cell_type": "code",
   "execution_count": 2,
   "metadata": {},
   "outputs": [],
   "source": [
    "#2 read the dataset onto a variable\n",
    "dataset = pd.read_csv(\"D:\\\\College\\\\sem2\\\\Machine Learning Techniques\\\\lab\\\\datasets\\\\survey_dataset.csv\")"
   ]
  },
  {
   "cell_type": "code",
   "execution_count": 3,
   "metadata": {},
   "outputs": [
    {
     "data": {
      "text/html": [
       "<div>\n",
       "<style scoped>\n",
       "    .dataframe tbody tr th:only-of-type {\n",
       "        vertical-align: middle;\n",
       "    }\n",
       "\n",
       "    .dataframe tbody tr th {\n",
       "        vertical-align: top;\n",
       "    }\n",
       "\n",
       "    .dataframe thead th {\n",
       "        text-align: right;\n",
       "    }\n",
       "</style>\n",
       "<table border=\"1\" class=\"dataframe\">\n",
       "  <thead>\n",
       "    <tr style=\"text-align: right;\">\n",
       "      <th></th>\n",
       "      <th>Timestamp</th>\n",
       "      <th>are you ?</th>\n",
       "      <th>Age</th>\n",
       "      <th>Gender</th>\n",
       "      <th>Place</th>\n",
       "      <th>Do you miss working offline?</th>\n",
       "      <th>time spent in front of screen for work/ college?</th>\n",
       "      <th>Medium for class/ work?</th>\n",
       "      <th>do you spend time on personal development?</th>\n",
       "      <th>how do you interact with other?</th>\n",
       "      <th>which social media platforms do you use often?</th>\n",
       "      <th>time spent on mobile or TV (except work hours)?</th>\n",
       "      <th>stress busters?</th>\n",
       "      <th>meals in a day?</th>\n",
       "      <th>change in you weight during lockdown?</th>\n",
       "      <th>health issues?</th>\n",
       "      <th>what did you miss the most? (due to WFH culture)</th>\n",
       "      <th>Had Impact</th>\n",
       "    </tr>\n",
       "  </thead>\n",
       "  <tbody>\n",
       "    <tr>\n",
       "      <th>0</th>\n",
       "      <td>2021/03/25 6:30:45 PM GMT+5:30</td>\n",
       "      <td>working professional</td>\n",
       "      <td>24</td>\n",
       "      <td>Male</td>\n",
       "      <td>Pune</td>\n",
       "      <td>yes</td>\n",
       "      <td>more than 6hrs</td>\n",
       "      <td>laptop</td>\n",
       "      <td>Yes</td>\n",
       "      <td>prefer to meet personally</td>\n",
       "      <td>twitter</td>\n",
       "      <td>1-2hr</td>\n",
       "      <td>social media;exercise</td>\n",
       "      <td>2</td>\n",
       "      <td>increased</td>\n",
       "      <td>No</td>\n",
       "      <td>friends</td>\n",
       "      <td>No</td>\n",
       "    </tr>\n",
       "    <tr>\n",
       "      <th>1</th>\n",
       "      <td>2021/03/25 6:31:04 PM GMT+5:30</td>\n",
       "      <td>working professional</td>\n",
       "      <td>27</td>\n",
       "      <td>Male</td>\n",
       "      <td>Delhu</td>\n",
       "      <td>sometimes</td>\n",
       "      <td>4-6 hrs</td>\n",
       "      <td>laptop</td>\n",
       "      <td>Yes</td>\n",
       "      <td>social media</td>\n",
       "      <td>whatsapp;instagram;facebook</td>\n",
       "      <td>more than 4hrs</td>\n",
       "      <td>social media;traveling</td>\n",
       "      <td>4</td>\n",
       "      <td>decreased</td>\n",
       "      <td>No</td>\n",
       "      <td>travelling</td>\n",
       "      <td>Yes</td>\n",
       "    </tr>\n",
       "    <tr>\n",
       "      <th>2</th>\n",
       "      <td>2021/03/25 6:32:45 PM GMT+5:30</td>\n",
       "      <td>Student</td>\n",
       "      <td>26</td>\n",
       "      <td>Male</td>\n",
       "      <td>Delhi</td>\n",
       "      <td>yes</td>\n",
       "      <td>4-6 hrs</td>\n",
       "      <td>offline</td>\n",
       "      <td>No</td>\n",
       "      <td>social media</td>\n",
       "      <td>whatsapp;instagram;linkedIn;twitter</td>\n",
       "      <td>1-2hr</td>\n",
       "      <td>social media;sleeping;cooking;exercise;traveling</td>\n",
       "      <td>3</td>\n",
       "      <td>No</td>\n",
       "      <td>No</td>\n",
       "      <td>school/college/work;friends;gym</td>\n",
       "      <td>No</td>\n",
       "    </tr>\n",
       "    <tr>\n",
       "      <th>3</th>\n",
       "      <td>2021/03/25 6:34:49 PM GMT+5:30</td>\n",
       "      <td>working professional</td>\n",
       "      <td>24</td>\n",
       "      <td>Male</td>\n",
       "      <td>Mumbai</td>\n",
       "      <td>sometimes</td>\n",
       "      <td>6-8 hrs</td>\n",
       "      <td>laptop</td>\n",
       "      <td>Maybe</td>\n",
       "      <td>social media</td>\n",
       "      <td>whatsapp;instagram;facebook;linkedIn;twitter</td>\n",
       "      <td>0-1 hr</td>\n",
       "      <td>eating;cooking;exercise;traveling;meeting friends</td>\n",
       "      <td>may vary on daily basis</td>\n",
       "      <td>No</td>\n",
       "      <td>No</td>\n",
       "      <td>travelling;friends;restaurants</td>\n",
       "      <td>No</td>\n",
       "    </tr>\n",
       "    <tr>\n",
       "      <th>4</th>\n",
       "      <td>2021/03/25 6:35:01 PM GMT+5:30</td>\n",
       "      <td>Student</td>\n",
       "      <td>23</td>\n",
       "      <td>Female</td>\n",
       "      <td>Nanded</td>\n",
       "      <td>sometimes</td>\n",
       "      <td>more than 6hrs</td>\n",
       "      <td>smartphone</td>\n",
       "      <td>No</td>\n",
       "      <td>prefer to meet personally</td>\n",
       "      <td>whatsapp;instagram</td>\n",
       "      <td>2-3hr</td>\n",
       "      <td>eating;sleeping;cooking;traveling;meeting friends</td>\n",
       "      <td>3</td>\n",
       "      <td>increased</td>\n",
       "      <td>Yes</td>\n",
       "      <td>school/college/work;travelling;going out;frien...</td>\n",
       "      <td>Yes</td>\n",
       "    </tr>\n",
       "  </tbody>\n",
       "</table>\n",
       "</div>"
      ],
      "text/plain": [
       "                        Timestamp             are you ?  Age  Gender    Place  \\\n",
       "0  2021/03/25 6:30:45 PM GMT+5:30  working professional   24    Male     Pune   \n",
       "1  2021/03/25 6:31:04 PM GMT+5:30  working professional   27    Male    Delhu   \n",
       "2  2021/03/25 6:32:45 PM GMT+5:30               Student   26    Male    Delhi   \n",
       "3  2021/03/25 6:34:49 PM GMT+5:30  working professional   24    Male   Mumbai   \n",
       "4  2021/03/25 6:35:01 PM GMT+5:30               Student   23  Female  Nanded    \n",
       "\n",
       "  Do you miss working offline?  \\\n",
       "0                          yes   \n",
       "1                    sometimes   \n",
       "2                          yes   \n",
       "3                    sometimes   \n",
       "4                    sometimes   \n",
       "\n",
       "  time spent in front of screen for work/ college? Medium for class/ work?  \\\n",
       "0                                   more than 6hrs                  laptop   \n",
       "1                                          4-6 hrs                  laptop   \n",
       "2                                          4-6 hrs                 offline   \n",
       "3                                          6-8 hrs                  laptop   \n",
       "4                                   more than 6hrs              smartphone   \n",
       "\n",
       "  do you spend time on personal development? how do you interact with other?  \\\n",
       "0                                        Yes       prefer to meet personally   \n",
       "1                                        Yes                    social media   \n",
       "2                                         No                    social media   \n",
       "3                                      Maybe                    social media   \n",
       "4                                         No       prefer to meet personally   \n",
       "\n",
       "  which social media platforms do you use often?  \\\n",
       "0                                        twitter   \n",
       "1                    whatsapp;instagram;facebook   \n",
       "2            whatsapp;instagram;linkedIn;twitter   \n",
       "3   whatsapp;instagram;facebook;linkedIn;twitter   \n",
       "4                             whatsapp;instagram   \n",
       "\n",
       "  time spent on mobile or TV (except work hours)?  \\\n",
       "0                                           1-2hr   \n",
       "1                                  more than 4hrs   \n",
       "2                                           1-2hr   \n",
       "3                                          0-1 hr   \n",
       "4                                           2-3hr   \n",
       "\n",
       "                                    stress busters?           meals in a day?  \\\n",
       "0                              social media;exercise                        2   \n",
       "1                             social media;traveling                        4   \n",
       "2   social media;sleeping;cooking;exercise;traveling                        3   \n",
       "3  eating;cooking;exercise;traveling;meeting friends  may vary on daily basis   \n",
       "4  eating;sleeping;cooking;traveling;meeting friends                        3   \n",
       "\n",
       "  change in you weight during lockdown? health issues?  \\\n",
       "0                             increased             No   \n",
       "1                             decreased             No   \n",
       "2                                    No             No   \n",
       "3                                    No             No   \n",
       "4                             increased            Yes   \n",
       "\n",
       "    what did you miss the most? (due to WFH culture) Had Impact  \n",
       "0                                            friends         No  \n",
       "1                                         travelling        Yes  \n",
       "2                    school/college/work;friends;gym         No  \n",
       "3                     travelling;friends;restaurants         No  \n",
       "4  school/college/work;travelling;going out;frien...        Yes  "
      ]
     },
     "execution_count": 3,
     "metadata": {},
     "output_type": "execute_result"
    }
   ],
   "source": [
    "dataset.head(5)"
   ]
  },
  {
   "cell_type": "code",
   "execution_count": 4,
   "metadata": {},
   "outputs": [
    {
     "name": "stdout",
     "output_type": "stream",
     "text": [
      "<class 'pandas.core.frame.DataFrame'>\n",
      "RangeIndex: 64 entries, 0 to 63\n",
      "Data columns (total 18 columns):\n",
      " #   Column                                            Non-Null Count  Dtype \n",
      "---  ------                                            --------------  ----- \n",
      " 0   Timestamp                                         64 non-null     object\n",
      " 1   are you ?                                         64 non-null     object\n",
      " 2   Age                                               64 non-null     int64 \n",
      " 3   Gender                                            64 non-null     object\n",
      " 4   Place                                             60 non-null     object\n",
      " 5   Do you miss working offline?                      64 non-null     object\n",
      " 6   time spent in front of screen for work/ college?  64 non-null     object\n",
      " 7   Medium for class/ work?                           64 non-null     object\n",
      " 8   do you spend time on personal development?        64 non-null     object\n",
      " 9   how do you interact with other?                   64 non-null     object\n",
      " 10  which social media platforms do you use often?    64 non-null     object\n",
      " 11  time spent on mobile or TV (except work hours)?   64 non-null     object\n",
      " 12  stress busters?                                   64 non-null     object\n",
      " 13  meals in a day?                                   64 non-null     object\n",
      " 14  change in you weight during lockdown?             64 non-null     object\n",
      " 15  health issues?                                    64 non-null     object\n",
      " 16  what did you miss the most? (due to WFH culture)  64 non-null     object\n",
      " 17  Had Impact                                        64 non-null     object\n",
      "dtypes: int64(1), object(17)\n",
      "memory usage: 9.1+ KB\n"
     ]
    }
   ],
   "source": [
    "dataset.info()"
   ]
  },
  {
   "cell_type": "code",
   "execution_count": 5,
   "metadata": {},
   "outputs": [
    {
     "name": "stdout",
     "output_type": "stream",
     "text": [
      "Yes    43\n",
      "No     21\n",
      "Name: Had Impact, dtype: int64\n"
     ]
    }
   ],
   "source": [
    "#how many many had impact\n",
    "print(dataset['Had Impact'].value_counts())"
   ]
  },
  {
   "cell_type": "code",
   "execution_count": 6,
   "metadata": {},
   "outputs": [
    {
     "name": "stdout",
     "output_type": "stream",
     "text": [
      "social media                 31\n",
      "prefer to meet personally    30\n",
      "No interaction                1\n",
      "Personal phone call.          1\n",
      "Both                          1\n",
      "Name: how do you interact with other?, dtype: int64\n"
     ]
    }
   ],
   "source": [
    "#how they interact\n",
    "print(dataset['how do you interact with other?'].value_counts())"
   ]
  },
  {
   "cell_type": "code",
   "execution_count": 7,
   "metadata": {},
   "outputs": [
    {
     "data": {
      "text/plain": [
       "array(['twitter', 'whatsapp;instagram;facebook',\n",
       "       'whatsapp;instagram;linkedIn;twitter',\n",
       "       'whatsapp;instagram;facebook;linkedIn;twitter',\n",
       "       'whatsapp;instagram', 'whatsapp;instagram;twitter', 'instagram',\n",
       "       'whatsapp;instagram;linkedIn', 'whatsapp;linkedIn',\n",
       "       'whatsapp;instagram;linkedIn;Reddit;twitter', 'whatsapp',\n",
       "       'whatsapp;instagram;facebook;linkedIn;Reddit', 'facebook',\n",
       "       'whatsapp;instagram;facebook;linkedIn', 'whatsapp;facebook',\n",
       "       'instagram;facebook', 'whatsapp;instagram;Snapchat',\n",
       "       'whatsapp;instagram;facebook;linkedIn;Reddit;twitter',\n",
       "       'whatsapp;instagram;facebook;twitter',\n",
       "       'whatsapp;facebook;You tube'], dtype=object)"
      ]
     },
     "execution_count": 7,
     "metadata": {},
     "output_type": "execute_result"
    }
   ],
   "source": [
    "dataset[\"which social media platforms do you use often?\"].unique()"
   ]
  },
  {
   "cell_type": "markdown",
   "metadata": {},
   "source": [
    "## Feature Engineering"
   ]
  },
  {
   "cell_type": "code",
   "execution_count": 8,
   "metadata": {},
   "outputs": [
    {
     "data": {
      "text/plain": [
       "array(['working professional', 'Student', 'Graduate engineer',\n",
       "       'Retired professor', 'Unemployed'], dtype=object)"
      ]
     },
     "execution_count": 8,
     "metadata": {},
     "output_type": "execute_result"
    }
   ],
   "source": [
    "dataset['are you ?'].unique()"
   ]
  },
  {
   "cell_type": "code",
   "execution_count": 9,
   "metadata": {},
   "outputs": [],
   "source": [
    "dataset['are you ?'] =  dataset['are you ?'].map({'working professional': 0, 'Student': 1, 'Graduate engineer': 2, 'Retired professor':3 , 'Unemployed': 4})"
   ]
  },
  {
   "cell_type": "code",
   "execution_count": 10,
   "metadata": {},
   "outputs": [
    {
     "data": {
      "text/plain": [
       "array([24, 27, 26, 23, 21, 28, 25, 22, 45, 32, 34, 60], dtype=int64)"
      ]
     },
     "execution_count": 10,
     "metadata": {},
     "output_type": "execute_result"
    }
   ],
   "source": [
    "dataset['Age'].unique()"
   ]
  },
  {
   "cell_type": "code",
   "execution_count": 11,
   "metadata": {},
   "outputs": [
    {
     "data": {
      "text/plain": [
       "array(['Male', 'Female'], dtype=object)"
      ]
     },
     "execution_count": 11,
     "metadata": {},
     "output_type": "execute_result"
    }
   ],
   "source": [
    "dataset['Gender'].unique()"
   ]
  },
  {
   "cell_type": "code",
   "execution_count": 12,
   "metadata": {},
   "outputs": [],
   "source": [
    "dataset['Gender'] = dataset['Gender'].map({'Male': 0, 'Female': 1})"
   ]
  },
  {
   "cell_type": "code",
   "execution_count": 13,
   "metadata": {},
   "outputs": [
    {
     "data": {
      "text/plain": [
       "array(['yes', 'sometimes', 'no'], dtype=object)"
      ]
     },
     "execution_count": 13,
     "metadata": {},
     "output_type": "execute_result"
    }
   ],
   "source": [
    "dataset['Do you miss working offline?'].unique()"
   ]
  },
  {
   "cell_type": "code",
   "execution_count": 14,
   "metadata": {},
   "outputs": [],
   "source": [
    "dataset['Do you miss working offline?'] =  dataset['Do you miss working offline?'].map({'no': 0, 'yes': 1, 'sometimes': 2})"
   ]
  },
  {
   "cell_type": "code",
   "execution_count": 15,
   "metadata": {},
   "outputs": [
    {
     "data": {
      "text/plain": [
       "array(['prefer to meet personally', 'social media', 'No interaction',\n",
       "       'Both ', 'Personal phone call. '], dtype=object)"
      ]
     },
     "execution_count": 15,
     "metadata": {},
     "output_type": "execute_result"
    }
   ],
   "source": [
    "dataset['how do you interact with other?'].unique()"
   ]
  },
  {
   "cell_type": "code",
   "execution_count": 16,
   "metadata": {},
   "outputs": [
    {
     "data": {
      "text/plain": [
       "array(['Yes', 'No', 'Maybe'], dtype=object)"
      ]
     },
     "execution_count": 16,
     "metadata": {},
     "output_type": "execute_result"
    }
   ],
   "source": [
    "dataset['do you spend time on personal development?'].unique()"
   ]
  },
  {
   "cell_type": "code",
   "execution_count": 17,
   "metadata": {},
   "outputs": [],
   "source": [
    "dataset['Had Impact'] = dataset['Had Impact'].map({'No': 0, 'Yes': 1})"
   ]
  },
  {
   "cell_type": "code",
   "execution_count": 18,
   "metadata": {},
   "outputs": [
    {
     "data": {
      "text/html": [
       "<div>\n",
       "<style scoped>\n",
       "    .dataframe tbody tr th:only-of-type {\n",
       "        vertical-align: middle;\n",
       "    }\n",
       "\n",
       "    .dataframe tbody tr th {\n",
       "        vertical-align: top;\n",
       "    }\n",
       "\n",
       "    .dataframe thead th {\n",
       "        text-align: right;\n",
       "    }\n",
       "</style>\n",
       "<table border=\"1\" class=\"dataframe\">\n",
       "  <thead>\n",
       "    <tr style=\"text-align: right;\">\n",
       "      <th></th>\n",
       "      <th>Timestamp</th>\n",
       "      <th>are you ?</th>\n",
       "      <th>Age</th>\n",
       "      <th>Gender</th>\n",
       "      <th>Place</th>\n",
       "      <th>Do you miss working offline?</th>\n",
       "      <th>time spent in front of screen for work/ college?</th>\n",
       "      <th>Medium for class/ work?</th>\n",
       "      <th>do you spend time on personal development?</th>\n",
       "      <th>how do you interact with other?</th>\n",
       "      <th>which social media platforms do you use often?</th>\n",
       "      <th>time spent on mobile or TV (except work hours)?</th>\n",
       "      <th>stress busters?</th>\n",
       "      <th>meals in a day?</th>\n",
       "      <th>change in you weight during lockdown?</th>\n",
       "      <th>health issues?</th>\n",
       "      <th>what did you miss the most? (due to WFH culture)</th>\n",
       "      <th>Had Impact</th>\n",
       "    </tr>\n",
       "  </thead>\n",
       "  <tbody>\n",
       "    <tr>\n",
       "      <th>0</th>\n",
       "      <td>2021/03/25 6:30:45 PM GMT+5:30</td>\n",
       "      <td>0</td>\n",
       "      <td>24</td>\n",
       "      <td>0</td>\n",
       "      <td>Pune</td>\n",
       "      <td>1</td>\n",
       "      <td>more than 6hrs</td>\n",
       "      <td>laptop</td>\n",
       "      <td>Yes</td>\n",
       "      <td>prefer to meet personally</td>\n",
       "      <td>twitter</td>\n",
       "      <td>1-2hr</td>\n",
       "      <td>social media;exercise</td>\n",
       "      <td>2</td>\n",
       "      <td>increased</td>\n",
       "      <td>No</td>\n",
       "      <td>friends</td>\n",
       "      <td>0</td>\n",
       "    </tr>\n",
       "    <tr>\n",
       "      <th>1</th>\n",
       "      <td>2021/03/25 6:31:04 PM GMT+5:30</td>\n",
       "      <td>0</td>\n",
       "      <td>27</td>\n",
       "      <td>0</td>\n",
       "      <td>Delhu</td>\n",
       "      <td>2</td>\n",
       "      <td>4-6 hrs</td>\n",
       "      <td>laptop</td>\n",
       "      <td>Yes</td>\n",
       "      <td>social media</td>\n",
       "      <td>whatsapp;instagram;facebook</td>\n",
       "      <td>more than 4hrs</td>\n",
       "      <td>social media;traveling</td>\n",
       "      <td>4</td>\n",
       "      <td>decreased</td>\n",
       "      <td>No</td>\n",
       "      <td>travelling</td>\n",
       "      <td>1</td>\n",
       "    </tr>\n",
       "    <tr>\n",
       "      <th>2</th>\n",
       "      <td>2021/03/25 6:32:45 PM GMT+5:30</td>\n",
       "      <td>1</td>\n",
       "      <td>26</td>\n",
       "      <td>0</td>\n",
       "      <td>Delhi</td>\n",
       "      <td>1</td>\n",
       "      <td>4-6 hrs</td>\n",
       "      <td>offline</td>\n",
       "      <td>No</td>\n",
       "      <td>social media</td>\n",
       "      <td>whatsapp;instagram;linkedIn;twitter</td>\n",
       "      <td>1-2hr</td>\n",
       "      <td>social media;sleeping;cooking;exercise;traveling</td>\n",
       "      <td>3</td>\n",
       "      <td>No</td>\n",
       "      <td>No</td>\n",
       "      <td>school/college/work;friends;gym</td>\n",
       "      <td>0</td>\n",
       "    </tr>\n",
       "    <tr>\n",
       "      <th>3</th>\n",
       "      <td>2021/03/25 6:34:49 PM GMT+5:30</td>\n",
       "      <td>0</td>\n",
       "      <td>24</td>\n",
       "      <td>0</td>\n",
       "      <td>Mumbai</td>\n",
       "      <td>2</td>\n",
       "      <td>6-8 hrs</td>\n",
       "      <td>laptop</td>\n",
       "      <td>Maybe</td>\n",
       "      <td>social media</td>\n",
       "      <td>whatsapp;instagram;facebook;linkedIn;twitter</td>\n",
       "      <td>0-1 hr</td>\n",
       "      <td>eating;cooking;exercise;traveling;meeting friends</td>\n",
       "      <td>may vary on daily basis</td>\n",
       "      <td>No</td>\n",
       "      <td>No</td>\n",
       "      <td>travelling;friends;restaurants</td>\n",
       "      <td>0</td>\n",
       "    </tr>\n",
       "    <tr>\n",
       "      <th>4</th>\n",
       "      <td>2021/03/25 6:35:01 PM GMT+5:30</td>\n",
       "      <td>1</td>\n",
       "      <td>23</td>\n",
       "      <td>1</td>\n",
       "      <td>Nanded</td>\n",
       "      <td>2</td>\n",
       "      <td>more than 6hrs</td>\n",
       "      <td>smartphone</td>\n",
       "      <td>No</td>\n",
       "      <td>prefer to meet personally</td>\n",
       "      <td>whatsapp;instagram</td>\n",
       "      <td>2-3hr</td>\n",
       "      <td>eating;sleeping;cooking;traveling;meeting friends</td>\n",
       "      <td>3</td>\n",
       "      <td>increased</td>\n",
       "      <td>Yes</td>\n",
       "      <td>school/college/work;travelling;going out;frien...</td>\n",
       "      <td>1</td>\n",
       "    </tr>\n",
       "  </tbody>\n",
       "</table>\n",
       "</div>"
      ],
      "text/plain": [
       "                        Timestamp  are you ?  Age  Gender    Place  \\\n",
       "0  2021/03/25 6:30:45 PM GMT+5:30          0   24       0     Pune   \n",
       "1  2021/03/25 6:31:04 PM GMT+5:30          0   27       0    Delhu   \n",
       "2  2021/03/25 6:32:45 PM GMT+5:30          1   26       0    Delhi   \n",
       "3  2021/03/25 6:34:49 PM GMT+5:30          0   24       0   Mumbai   \n",
       "4  2021/03/25 6:35:01 PM GMT+5:30          1   23       1  Nanded    \n",
       "\n",
       "   Do you miss working offline?  \\\n",
       "0                             1   \n",
       "1                             2   \n",
       "2                             1   \n",
       "3                             2   \n",
       "4                             2   \n",
       "\n",
       "  time spent in front of screen for work/ college? Medium for class/ work?  \\\n",
       "0                                   more than 6hrs                  laptop   \n",
       "1                                          4-6 hrs                  laptop   \n",
       "2                                          4-6 hrs                 offline   \n",
       "3                                          6-8 hrs                  laptop   \n",
       "4                                   more than 6hrs              smartphone   \n",
       "\n",
       "  do you spend time on personal development? how do you interact with other?  \\\n",
       "0                                        Yes       prefer to meet personally   \n",
       "1                                        Yes                    social media   \n",
       "2                                         No                    social media   \n",
       "3                                      Maybe                    social media   \n",
       "4                                         No       prefer to meet personally   \n",
       "\n",
       "  which social media platforms do you use often?  \\\n",
       "0                                        twitter   \n",
       "1                    whatsapp;instagram;facebook   \n",
       "2            whatsapp;instagram;linkedIn;twitter   \n",
       "3   whatsapp;instagram;facebook;linkedIn;twitter   \n",
       "4                             whatsapp;instagram   \n",
       "\n",
       "  time spent on mobile or TV (except work hours)?  \\\n",
       "0                                           1-2hr   \n",
       "1                                  more than 4hrs   \n",
       "2                                           1-2hr   \n",
       "3                                          0-1 hr   \n",
       "4                                           2-3hr   \n",
       "\n",
       "                                    stress busters?           meals in a day?  \\\n",
       "0                              social media;exercise                        2   \n",
       "1                             social media;traveling                        4   \n",
       "2   social media;sleeping;cooking;exercise;traveling                        3   \n",
       "3  eating;cooking;exercise;traveling;meeting friends  may vary on daily basis   \n",
       "4  eating;sleeping;cooking;traveling;meeting friends                        3   \n",
       "\n",
       "  change in you weight during lockdown? health issues?  \\\n",
       "0                             increased             No   \n",
       "1                             decreased             No   \n",
       "2                                    No             No   \n",
       "3                                    No             No   \n",
       "4                             increased            Yes   \n",
       "\n",
       "    what did you miss the most? (due to WFH culture)  Had Impact  \n",
       "0                                            friends           0  \n",
       "1                                         travelling           1  \n",
       "2                    school/college/work;friends;gym           0  \n",
       "3                     travelling;friends;restaurants           0  \n",
       "4  school/college/work;travelling;going out;frien...           1  "
      ]
     },
     "execution_count": 18,
     "metadata": {},
     "output_type": "execute_result"
    }
   ],
   "source": [
    "dataset.head(5)"
   ]
  },
  {
   "cell_type": "markdown",
   "metadata": {},
   "source": [
    "## Visualizing some features"
   ]
  },
  {
   "cell_type": "code",
   "execution_count": 19,
   "metadata": {},
   "outputs": [
    {
     "data": {
      "image/png": "[encoded data removed]",
      "text/plain": [
       "<Figure size 432x288 with 1 Axes>"
      ]
     },
     "metadata": {
      "needs_background": "light"
     },
     "output_type": "display_data"
    }
   ],
   "source": [
    "import seaborn as sns\n",
    "sns.countplot(x=\"Age\", data=dataset, palette='Set1')\n",
    "plt.xlabel('Age', weight='bold')\n",
    "plt.ylabel('Number of people', weight='bold')\n",
    "plt.grid('True')"
   ]
  },
  {
   "cell_type": "markdown",
   "metadata": {},
   "source": [
    "shows people of all age group participated in the survey"
   ]
  },
  {
   "cell_type": "code",
   "execution_count": 20,
   "metadata": {},
   "outputs": [
    {
     "name": "stdout",
     "output_type": "stream",
     "text": [
      "devices ['laptop', 'desktop', 'smartphone', 'offline']\n",
      "devices_used [39, 12, 8, 5]\n"
     ]
    }
   ],
   "source": [
    "devices = dataset['Medium for class/ work?'].value_counts().keys().tolist()\n",
    "print(\"devices\",devices)\n",
    "devices_used = dataset['Medium for class/ work?'].value_counts().tolist()\n",
    "print(\"devices_used\",devices_used)"
   ]
  },
  {
   "cell_type": "code",
   "execution_count": 21,
   "metadata": {},
   "outputs": [
    {
     "data": {
      "image/png": "[encoded data removed]",
      "text/plain": [
       "<Figure size 432x288 with 1 Axes>"
      ]
     },
     "metadata": {},
     "output_type": "display_data"
    }
   ],
   "source": [
    "plt.pie(devices_used,labels = devices, shadow=True, autopct=lambda p : f'{p:.2f}%  ({p * sum(devices_used)/100:,.0f})', textprops={'fontsize':10})\n",
    "plt.show()"
   ]
  },
  {
   "cell_type": "code",
   "execution_count": 22,
   "metadata": {},
   "outputs": [
    {
     "data": {
      "image/png": "[encoded data removed]",
      "text/plain": [
       "<Figure size 432x288 with 1 Axes>"
      ]
     },
     "metadata": {
      "needs_background": "light"
     },
     "output_type": "display_data"
    }
   ],
   "source": [
    "sns.countplot(x=\"time spent on mobile or TV (except work hours)?\", data=dataset, palette='Set1')\n",
    "plt.xlabel('time spent on mobile or TV (except work hours)?', weight='bold')\n",
    "plt.ylabel('Number of people', weight='bold')\n",
    "plt.grid('True')\n",
    "\n"
   ]
  },
  {
   "cell_type": "code",
   "execution_count": 23,
   "metadata": {},
   "outputs": [
    {
     "data": {
      "image/png": "[encoded data removed]",
      "text/plain": [
       "<Figure size 432x288 with 1 Axes>"
      ]
     },
     "metadata": {
      "needs_background": "light"
     },
     "output_type": "display_data"
    }
   ],
   "source": [
    "sns.countplot(x=\"time spent in front of screen for work/ college?\", data=dataset, palette='Set1')\n",
    "plt.xlabel('time spent in front of screen for work/ college?', weight='bold')\n",
    "plt.ylabel('Number of people', weight='bold')\n",
    "plt.grid('True')\n"
   ]
  },
  {
   "cell_type": "code",
   "execution_count": 24,
   "metadata": {},
   "outputs": [
    {
     "name": "stdout",
     "output_type": "stream",
     "text": [
      "social_media_platforms ['whatsapp;instagram', 'whatsapp;instagram;linkedIn', 'whatsapp', 'whatsapp;instagram;facebook', 'instagram', 'whatsapp;instagram;facebook;linkedIn', 'whatsapp;instagram;facebook;linkedIn;twitter', 'whatsapp;instagram;linkedIn;twitter', 'facebook', 'whatsapp;instagram;facebook;linkedIn;Reddit', 'whatsapp;facebook', 'whatsapp;instagram;linkedIn;Reddit;twitter', 'whatsapp;instagram;facebook;twitter', 'whatsapp;linkedIn', 'whatsapp;instagram;facebook;linkedIn;Reddit;twitter', 'whatsapp;facebook;You tube', 'twitter', 'instagram;facebook', 'whatsapp;instagram;twitter', 'whatsapp;instagram;Snapchat']\n",
      "[13, 9, 7, 7, 5, 4, 3, 2, 2, 2, 1, 1, 1, 1, 1, 1, 1, 1, 1, 1]\n"
     ]
    }
   ],
   "source": [
    "social_media_platforms = dataset['which social media platforms do you use often?'].value_counts().keys().tolist()\n",
    "print(\"social_media_platforms\", social_media_platforms)\n",
    "counts_ = dataset['which social media platforms do you use often?'].value_counts().tolist()\n",
    "print(counts_)"
   ]
  },
  {
   "cell_type": "code",
   "execution_count": 25,
   "metadata": {},
   "outputs": [
    {
     "data": {
      "image/png": "[encoded data removed]",
      "text/plain": [
       "<Figure size 432x288 with 1 Axes>"
      ]
     },
     "metadata": {
      "needs_background": "light"
     },
     "output_type": "display_data"
    }
   ],
   "source": [
    "fig, ax = plt.subplots()\n",
    "sns.barplot(x = counts_, y = social_media_platforms, palette = 'Set1')\n",
    "plt.xlabel('number of people', size = 16)\n",
    "for i, v in enumerate(counts_):\n",
    "    ax.text(  v+3,\n",
    "              i-.15,\n",
    "              f'{counts_[i]*100/sum(counts_):.2f}%',\n",
    "              style = 'italic',\n",
    "              fontsize=12,\n",
    "              )\n",
    "    "
   ]
  },
  {
   "cell_type": "code",
   "execution_count": 26,
   "metadata": {},
   "outputs": [
    {
     "data": {
      "text/plain": [
       "array(['Yes', 'No', 'Maybe'], dtype=object)"
      ]
     },
     "execution_count": 26,
     "metadata": {},
     "output_type": "execute_result"
    }
   ],
   "source": [
    "dataset['do you spend time on personal development?'].unique()"
   ]
  },
  {
   "cell_type": "code",
   "execution_count": 27,
   "metadata": {},
   "outputs": [],
   "source": [
    "dataset['do you spend time on personal development?'] = dataset['do you spend time on personal development?'].map({'No':0, 'Yes': 1, 'Maybe': 2})"
   ]
  },
  {
   "cell_type": "code",
   "execution_count": 28,
   "metadata": {},
   "outputs": [
    {
     "data": {
      "text/plain": [
       "array(['increased', 'decreased', 'No'], dtype=object)"
      ]
     },
     "execution_count": 28,
     "metadata": {},
     "output_type": "execute_result"
    }
   ],
   "source": [
    "dataset['change in you weight during lockdown?'].unique()"
   ]
  },
  {
   "cell_type": "code",
   "execution_count": 29,
   "metadata": {},
   "outputs": [],
   "source": [
    "dataset['change in you weight during lockdown?'] = dataset['change in you weight during lockdown?'].map({'No':0, 'decreased': 1, 'increased': 2})"
   ]
  },
  {
   "cell_type": "code",
   "execution_count": 30,
   "metadata": {},
   "outputs": [
    {
     "data": {
      "text/plain": [
       "array(['laptop', 'offline', 'smartphone', 'desktop'], dtype=object)"
      ]
     },
     "execution_count": 30,
     "metadata": {},
     "output_type": "execute_result"
    }
   ],
   "source": [
    "dataset['Medium for class/ work?'].unique()"
   ]
  },
  {
   "cell_type": "code",
   "execution_count": 31,
   "metadata": {},
   "outputs": [],
   "source": [
    "dataset['Medium for class/ work?'] = dataset['Medium for class/ work?'].map({'laptop': 0, 'offline': 1, 'smartphone':2, 'desktop':3})"
   ]
  },
  {
   "cell_type": "code",
   "execution_count": 32,
   "metadata": {},
   "outputs": [
    {
     "data": {
      "text/plain": [
       "array(['No', 'Yes', 'Maybe'], dtype=object)"
      ]
     },
     "execution_count": 32,
     "metadata": {},
     "output_type": "execute_result"
    }
   ],
   "source": [
    "dataset['health issues?'].unique()"
   ]
  },
  {
   "cell_type": "code",
   "execution_count": 33,
   "metadata": {},
   "outputs": [],
   "source": [
    "dataset['health issues?'] = dataset['health issues?'].map({'No': 0, 'Yes':1, 'Maybe':2})"
   ]
  },
  {
   "cell_type": "markdown",
   "metadata": {},
   "source": [
    "## fix the predictor variables"
   ]
  },
  {
   "cell_type": "code",
   "execution_count": 34,
   "metadata": {},
   "outputs": [],
   "source": [
    "df = dataset[['are you ?','Age', 'Gender', 'Do you miss working offline?','Medium for class/ work?', 'do you spend time on personal development?', 'change in you weight during lockdown?', 'health issues?', 'Had Impact' ]]"
   ]
  },
  {
   "cell_type": "code",
   "execution_count": 35,
   "metadata": {},
   "outputs": [
    {
     "data": {
      "text/html": [
       "<div>\n",
       "<style scoped>\n",
       "    .dataframe tbody tr th:only-of-type {\n",
       "        vertical-align: middle;\n",
       "    }\n",
       "\n",
       "    .dataframe tbody tr th {\n",
       "        vertical-align: top;\n",
       "    }\n",
       "\n",
       "    .dataframe thead th {\n",
       "        text-align: right;\n",
       "    }\n",
       "</style>\n",
       "<table border=\"1\" class=\"dataframe\">\n",
       "  <thead>\n",
       "    <tr style=\"text-align: right;\">\n",
       "      <th></th>\n",
       "      <th>are you ?</th>\n",
       "      <th>Age</th>\n",
       "      <th>Gender</th>\n",
       "      <th>Do you miss working offline?</th>\n",
       "      <th>Medium for class/ work?</th>\n",
       "      <th>do you spend time on personal development?</th>\n",
       "      <th>change in you weight during lockdown?</th>\n",
       "      <th>health issues?</th>\n",
       "      <th>Had Impact</th>\n",
       "    </tr>\n",
       "  </thead>\n",
       "  <tbody>\n",
       "    <tr>\n",
       "      <th>0</th>\n",
       "      <td>0</td>\n",
       "      <td>24</td>\n",
       "      <td>0</td>\n",
       "      <td>1</td>\n",
       "      <td>0</td>\n",
       "      <td>1</td>\n",
       "      <td>2</td>\n",
       "      <td>0</td>\n",
       "      <td>0</td>\n",
       "    </tr>\n",
       "    <tr>\n",
       "      <th>1</th>\n",
       "      <td>0</td>\n",
       "      <td>27</td>\n",
       "      <td>0</td>\n",
       "      <td>2</td>\n",
       "      <td>0</td>\n",
       "      <td>1</td>\n",
       "      <td>1</td>\n",
       "      <td>0</td>\n",
       "      <td>1</td>\n",
       "    </tr>\n",
       "    <tr>\n",
       "      <th>2</th>\n",
       "      <td>1</td>\n",
       "      <td>26</td>\n",
       "      <td>0</td>\n",
       "      <td>1</td>\n",
       "      <td>1</td>\n",
       "      <td>0</td>\n",
       "      <td>0</td>\n",
       "      <td>0</td>\n",
       "      <td>0</td>\n",
       "    </tr>\n",
       "    <tr>\n",
       "      <th>3</th>\n",
       "      <td>0</td>\n",
       "      <td>24</td>\n",
       "      <td>0</td>\n",
       "      <td>2</td>\n",
       "      <td>0</td>\n",
       "      <td>2</td>\n",
       "      <td>0</td>\n",
       "      <td>0</td>\n",
       "      <td>0</td>\n",
       "    </tr>\n",
       "    <tr>\n",
       "      <th>4</th>\n",
       "      <td>1</td>\n",
       "      <td>23</td>\n",
       "      <td>1</td>\n",
       "      <td>2</td>\n",
       "      <td>2</td>\n",
       "      <td>0</td>\n",
       "      <td>2</td>\n",
       "      <td>1</td>\n",
       "      <td>1</td>\n",
       "    </tr>\n",
       "    <tr>\n",
       "      <th>...</th>\n",
       "      <td>...</td>\n",
       "      <td>...</td>\n",
       "      <td>...</td>\n",
       "      <td>...</td>\n",
       "      <td>...</td>\n",
       "      <td>...</td>\n",
       "      <td>...</td>\n",
       "      <td>...</td>\n",
       "      <td>...</td>\n",
       "    </tr>\n",
       "    <tr>\n",
       "      <th>59</th>\n",
       "      <td>0</td>\n",
       "      <td>22</td>\n",
       "      <td>1</td>\n",
       "      <td>2</td>\n",
       "      <td>0</td>\n",
       "      <td>1</td>\n",
       "      <td>2</td>\n",
       "      <td>0</td>\n",
       "      <td>0</td>\n",
       "    </tr>\n",
       "    <tr>\n",
       "      <th>60</th>\n",
       "      <td>1</td>\n",
       "      <td>22</td>\n",
       "      <td>0</td>\n",
       "      <td>1</td>\n",
       "      <td>0</td>\n",
       "      <td>1</td>\n",
       "      <td>2</td>\n",
       "      <td>0</td>\n",
       "      <td>1</td>\n",
       "    </tr>\n",
       "    <tr>\n",
       "      <th>61</th>\n",
       "      <td>0</td>\n",
       "      <td>24</td>\n",
       "      <td>0</td>\n",
       "      <td>1</td>\n",
       "      <td>0</td>\n",
       "      <td>1</td>\n",
       "      <td>2</td>\n",
       "      <td>0</td>\n",
       "      <td>1</td>\n",
       "    </tr>\n",
       "    <tr>\n",
       "      <th>62</th>\n",
       "      <td>1</td>\n",
       "      <td>22</td>\n",
       "      <td>0</td>\n",
       "      <td>1</td>\n",
       "      <td>0</td>\n",
       "      <td>1</td>\n",
       "      <td>2</td>\n",
       "      <td>0</td>\n",
       "      <td>0</td>\n",
       "    </tr>\n",
       "    <tr>\n",
       "      <th>63</th>\n",
       "      <td>4</td>\n",
       "      <td>23</td>\n",
       "      <td>0</td>\n",
       "      <td>1</td>\n",
       "      <td>0</td>\n",
       "      <td>1</td>\n",
       "      <td>1</td>\n",
       "      <td>0</td>\n",
       "      <td>0</td>\n",
       "    </tr>\n",
       "  </tbody>\n",
       "</table>\n",
       "<p>64 rows × 9 columns</p>\n",
       "</div>"
      ],
      "text/plain": [
       "    are you ?  Age  Gender  Do you miss working offline?  \\\n",
       "0           0   24       0                             1   \n",
       "1           0   27       0                             2   \n",
       "2           1   26       0                             1   \n",
       "3           0   24       0                             2   \n",
       "4           1   23       1                             2   \n",
       "..        ...  ...     ...                           ...   \n",
       "59          0   22       1                             2   \n",
       "60          1   22       0                             1   \n",
       "61          0   24       0                             1   \n",
       "62          1   22       0                             1   \n",
       "63          4   23       0                             1   \n",
       "\n",
       "    Medium for class/ work?  do you spend time on personal development?  \\\n",
       "0                         0                                           1   \n",
       "1                         0                                           1   \n",
       "2                         1                                           0   \n",
       "3                         0                                           2   \n",
       "4                         2                                           0   \n",
       "..                      ...                                         ...   \n",
       "59                        0                                           1   \n",
       "60                        0                                           1   \n",
       "61                        0                                           1   \n",
       "62                        0                                           1   \n",
       "63                        0                                           1   \n",
       "\n",
       "    change in you weight during lockdown?  health issues?  Had Impact  \n",
       "0                                       2               0           0  \n",
       "1                                       1               0           1  \n",
       "2                                       0               0           0  \n",
       "3                                       0               0           0  \n",
       "4                                       2               1           1  \n",
       "..                                    ...             ...         ...  \n",
       "59                                      2               0           0  \n",
       "60                                      2               0           1  \n",
       "61                                      2               0           1  \n",
       "62                                      2               0           0  \n",
       "63                                      1               0           0  \n",
       "\n",
       "[64 rows x 9 columns]"
      ]
     },
     "execution_count": 35,
     "metadata": {},
     "output_type": "execute_result"
    }
   ],
   "source": [
    "df"
   ]
  },
  {
   "cell_type": "code",
   "execution_count": 36,
   "metadata": {},
   "outputs": [
    {
     "name": "stdout",
     "output_type": "stream",
     "text": [
      "<class 'pandas.core.frame.DataFrame'>\n",
      "RangeIndex: 64 entries, 0 to 63\n",
      "Data columns (total 9 columns):\n",
      " #   Column                                      Non-Null Count  Dtype\n",
      "---  ------                                      --------------  -----\n",
      " 0   are you ?                                   64 non-null     int64\n",
      " 1   Age                                         64 non-null     int64\n",
      " 2   Gender                                      64 non-null     int64\n",
      " 3   Do you miss working offline?                64 non-null     int64\n",
      " 4   Medium for class/ work?                     64 non-null     int64\n",
      " 5   do you spend time on personal development?  64 non-null     int64\n",
      " 6   change in you weight during lockdown?       64 non-null     int64\n",
      " 7   health issues?                              64 non-null     int64\n",
      " 8   Had Impact                                  64 non-null     int64\n",
      "dtypes: int64(9)\n",
      "memory usage: 4.6 KB\n"
     ]
    }
   ],
   "source": [
    "df.info()"
   ]
  },
  {
   "cell_type": "code",
   "execution_count": null,
   "metadata": {},
   "outputs": [],
   "source": []
  },
  {
   "cell_type": "code",
   "execution_count": 37,
   "metadata": {},
   "outputs": [],
   "source": [
    "# set the predictor(X) and respose(Y) variables\n",
    "X = df.drop(\"Had Impact\",axis=1)\n",
    "Y = df[\"Had Impact\"]"
   ]
  },
  {
   "cell_type": "code",
   "execution_count": 39,
   "metadata": {},
   "outputs": [],
   "source": [
    "# Spliting into Training and test set\n",
    "\n",
    "from sklearn.model_selection import train_test_split\n",
    "X_train, X_test, Y_train, Y_test = train_test_split(X,Y,test_size=0.2, random_state = 100)"
   ]
  },
  {
   "cell_type": "markdown",
   "metadata": {},
   "source": [
    "## Logistic regression model"
   ]
  },
  {
   "cell_type": "code",
   "execution_count": 40,
   "metadata": {},
   "outputs": [
    {
     "data": {
      "text/plain": [
       "LogisticRegression()"
      ]
     },
     "execution_count": 40,
     "metadata": {},
     "output_type": "execute_result"
    }
   ],
   "source": [
    "# call the logistic regresssion model\n",
    "from sklearn.linear_model import LogisticRegression\n",
    "logit = LogisticRegression() \n",
    "logit.fit(X_train, Y_train) #will approximate\n"
   ]
  },
  {
   "cell_type": "code",
   "execution_count": 41,
   "metadata": {},
   "outputs": [
    {
     "name": "stdout",
     "output_type": "stream",
     "text": [
      "[1 1 1 1 1 1 1 1 1 1 1 1 1]\n"
     ]
    }
   ],
   "source": [
    "# compute the Predictions or Y hat\n",
    "Y_pred = logit.predict(X_test)\n",
    "print(Y_pred)"
   ]
  },
  {
   "cell_type": "code",
   "execution_count": 42,
   "metadata": {},
   "outputs": [
    {
     "data": {
      "text/plain": [
       "array([[ 0,  3],\n",
       "       [ 0, 10]], dtype=int64)"
      ]
     },
     "execution_count": 42,
     "metadata": {},
     "output_type": "execute_result"
    }
   ],
   "source": [
    "# confusion matrix\n",
    "from sklearn.metrics import confusion_matrix\n",
    "confusion_matrix = confusion_matrix(Y_test, Y_pred) #what is test and what predicted\n",
    "confusion_matrix"
   ]
  },
  {
   "cell_type": "code",
   "execution_count": 43,
   "metadata": {},
   "outputs": [
    {
     "data": {
      "image/png": "[encoded data removed]",
      "text/plain": [
       "<Figure size 720x360 with 2 Axes>"
      ]
     },
     "metadata": {
      "needs_background": "light"
     },
     "output_type": "display_data"
    }
   ],
   "source": [
    "from sklearn.metrics import confusion_matrix\n",
    "import seaborn as sns\n",
    "\n",
    "# Figure size\n",
    "plt.figure(figsize=(10,5))\n",
    "cm=confusion_matrix(Y_test,Y_pred)\n",
    "# Heatmap\n",
    "sns.heatmap(cm, cmap=\"YlGnBu\", annot=True)\n",
    "plt.show()"
   ]
  },
  {
   "cell_type": "code",
   "execution_count": 46,
   "metadata": {},
   "outputs": [
    {
     "name": "stdout",
     "output_type": "stream",
     "text": [
      "Accuracy Score\n"
     ]
    },
    {
     "data": {
      "text/plain": [
       "0.7692307692307693"
      ]
     },
     "execution_count": 46,
     "metadata": {},
     "output_type": "execute_result"
    }
   ],
   "source": [
    "# Accuracy score\n",
    "from sklearn.metrics import accuracy_score\n",
    "print(\"Accuracy Score\")\n",
    "accuracy_score(Y_test,Y_pred)"
   ]
  },
  {
   "cell_type": "code",
   "execution_count": 47,
   "metadata": {},
   "outputs": [
    {
     "name": "stdout",
     "output_type": "stream",
     "text": [
      "              precision    recall  f1-score   support\n",
      "\n",
      "           0       0.00      0.00      0.00         3\n",
      "           1       0.77      1.00      0.87        10\n",
      "\n",
      "    accuracy                           0.77        13\n",
      "   macro avg       0.38      0.50      0.43        13\n",
      "weighted avg       0.59      0.77      0.67        13\n",
      "\n"
     ]
    }
   ],
   "source": [
    "# classification report\n",
    "from sklearn.metrics import classification_report\n",
    "report = classification_report(Y_test,Y_pred)\n",
    "print(report)"
   ]
  },
  {
   "cell_type": "code",
   "execution_count": null,
   "metadata": {},
   "outputs": [],
   "source": []
  },
  {
   "cell_type": "markdown",
   "metadata": {},
   "source": [
    "**Conclusion:** Recieved an accuracy of 76.92% "
   ]
  }
 ],
 "metadata": {
  "kernelspec": {
   "display_name": "Python 3",
   "language": "python",
   "name": "python3"
  },
  "language_info": {
   "codemirror_mode": {
    "name": "ipython",
    "version": 3
   },
   "file_extension": ".py",
   "mimetype": "text/x-python",
   "name": "python",
   "nbconvert_exporter": "python",
   "pygments_lexer": "ipython3",
   "version": "3.8.3"
  }
 },
 "nbformat": 4,
 "nbformat_minor": 4
}
